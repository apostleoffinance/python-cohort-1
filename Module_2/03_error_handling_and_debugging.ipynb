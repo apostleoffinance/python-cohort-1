{
 "cells": [
  {
   "cell_type": "markdown",
   "id": "5ad0d7ff",
   "metadata": {},
   "source": [
    "## Error Handling and Debugging\n",
    "\n",
    "### Error Handling:\n",
    "\n",
    "A Python mechanism to manage and respond to errors (exceptions) that occur during program execution, preventing crashes. Purpose: Ensures programs handle unexpected issues (e.g., invalid input, file not found) gracefully, improving reliability and user experience."
   ]
  },
  {
   "cell_type": "markdown",
   "id": "36d0f4ff",
   "metadata": {},
   "source": [
    "### Exception (Try/Except)\n",
    "\n",
    "try: Run the code\n",
    "\n",
    "except: if it crashes , ignore error silently or do something else\n",
    "\n",
    "finally: Clean up no matter what happens"
   ]
  },
  {
   "cell_type": "code",
   "execution_count": 1,
   "id": "57d516a4",
   "metadata": {},
   "outputs": [
    {
     "name": "stdout",
     "output_type": "stream",
     "text": [
      "This will always execute, regardless of error.\n"
     ]
    }
   ],
   "source": [
    "## Error Handling using Try/Except\n",
    "\n",
    "try:\n",
    "    with open('non_existing_file.txt', 'r') as file:\n",
    "        content = file.read()\n",
    "except:\n",
    "    pass\n",
    "\n",
    "finally:\n",
    "    print('This will always execute, regardless of error.')"
   ]
  },
  {
   "cell_type": "markdown",
   "id": "da918456",
   "metadata": {},
   "source": [
    "## Common Errors"
   ]
  },
  {
   "cell_type": "markdown",
   "id": "80ce6653",
   "metadata": {},
   "source": [
    "ValueError: When you give the right type of data but it doesn't make sense (like asking for a negative age).\n",
    "\n",
    "TypeError: Mixing incompatible things (like adding text to a number).\n",
    "\n",
    "FileNotFound: Trying to open a file that doesn't exist.\n",
    "\n",
    "KeyError: Looking for a non-existent dictionary key."
   ]
  },
  {
   "cell_type": "code",
   "execution_count": 2,
   "id": "58db563b",
   "metadata": {},
   "outputs": [
    {
     "ename": "ValueError",
     "evalue": "invalid literal for int() with base 10: 'ten'",
     "output_type": "error",
     "traceback": [
      "\u001b[0;31m---------------------------------------------------------------------------\u001b[0m",
      "\u001b[0;31mValueError\u001b[0m                                Traceback (most recent call last)",
      "Cell \u001b[0;32mIn[2], line 3\u001b[0m\n\u001b[1;32m      1\u001b[0m number \u001b[38;5;241m=\u001b[39m \u001b[38;5;124m'\u001b[39m\u001b[38;5;124mten\u001b[39m\u001b[38;5;124m'\u001b[39m\n\u001b[0;32m----> 3\u001b[0m value \u001b[38;5;241m=\u001b[39m \u001b[38;5;28;43mint\u001b[39;49m\u001b[43m(\u001b[49m\u001b[43mnumber\u001b[49m\u001b[43m)\u001b[49m\n\u001b[1;32m      4\u001b[0m \u001b[38;5;28mprint\u001b[39m(\u001b[38;5;124m\"\u001b[39m\u001b[38;5;124mCaught a TypeError: Cannot add string and integer\u001b[39m\u001b[38;5;124m\"\u001b[39m)\n",
      "\u001b[0;31mValueError\u001b[0m: invalid literal for int() with base 10: 'ten'"
     ]
    }
   ],
   "source": [
    "number = 'ten'\n",
    "\n",
    "value = int(number)\n",
    "print(\"Caught a TypeError: Cannot add string and integer\")"
   ]
  },
  {
   "cell_type": "code",
   "execution_count": 4,
   "id": "7a8f338f",
   "metadata": {},
   "outputs": [
    {
     "name": "stdout",
     "output_type": "stream",
     "text": [
      "Caught a ValueError: Cannot add string and integer\n"
     ]
    }
   ],
   "source": [
    "## ValueError Handling\n",
    "\n",
    "number = 'ten'\n",
    "\n",
    "try:\n",
    "    value = int(number)\n",
    "except ValueError:\n",
    "    print(\"Caught a ValueError: Cannot add string and integer\")"
   ]
  },
  {
   "cell_type": "code",
   "execution_count": 5,
   "id": "4e3d529f",
   "metadata": {},
   "outputs": [
    {
     "ename": "TypeError",
     "evalue": "can only concatenate str (not \"int\") to str",
     "output_type": "error",
     "traceback": [
      "\u001b[0;31m---------------------------------------------------------------------------\u001b[0m",
      "\u001b[0;31mTypeError\u001b[0m                                 Traceback (most recent call last)",
      "Cell \u001b[0;32mIn[5], line 1\u001b[0m\n\u001b[0;32m----> 1\u001b[0m result \u001b[38;5;241m=\u001b[39m \u001b[38;5;124;43m'\u001b[39;49m\u001b[38;5;124;43m5\u001b[39;49m\u001b[38;5;124;43m'\u001b[39;49m\u001b[43m \u001b[49m\u001b[38;5;241;43m+\u001b[39;49m\u001b[43m \u001b[49m\u001b[38;5;241;43m5\u001b[39;49m\n\u001b[1;32m      3\u001b[0m \u001b[38;5;28mprint\u001b[39m(\u001b[38;5;124m\"\u001b[39m\u001b[38;5;124mCaught a TypeError: Cannot add string and integer. \u001b[39m\u001b[38;5;124m\"\u001b[39m)\n",
      "\u001b[0;31mTypeError\u001b[0m: can only concatenate str (not \"int\") to str"
     ]
    }
   ],
   "source": [
    "result = '5' + 5\n",
    "\n",
    "print(\"Caught a TypeError: Cannot add string and integer. \")"
   ]
  },
  {
   "cell_type": "code",
   "execution_count": 6,
   "id": "fc7c2614",
   "metadata": {},
   "outputs": [
    {
     "name": "stdout",
     "output_type": "stream",
     "text": [
      "Caught a TypeError: Cannot add string and integer. \n"
     ]
    }
   ],
   "source": [
    "## TypeError Handling \n",
    "\n",
    "try:\n",
    "    result = '5' + 5\n",
    "except TypeError:\n",
    "    print(\"Caught a TypeError: Cannot add string and integer. \")"
   ]
  },
  {
   "cell_type": "code",
   "execution_count": 7,
   "id": "eceef198",
   "metadata": {},
   "outputs": [
    {
     "name": "stdout",
     "output_type": "stream",
     "text": [
      "Caught a FileNotFoundError: The file does not exist\n"
     ]
    }
   ],
   "source": [
    "# FileNotFoundError Handling\n",
    "\n",
    "try:\n",
    "    with open('yet_another_non_existent_file.txt', 'r') as file:\n",
    "        content = file.read()\n",
    "except FileNotFoundError:\n",
    "    print(\"Caught a FileNotFoundError: The file does not exist\")"
   ]
  },
  {
   "cell_type": "code",
   "execution_count": 8,
   "id": "acfb52d7",
   "metadata": {},
   "outputs": [
    {
     "name": "stdout",
     "output_type": "stream",
     "text": [
      "Caught a KeyError: The key does not exist in the dictionary\n"
     ]
    }
   ],
   "source": [
    "# KeyError Handling \n",
    "\n",
    "my_dict = {'a':1, 'b':2}\n",
    "try:\n",
    "    value = my_dict['c']\n",
    "except KeyError:\n",
    "    print(\"Caught a KeyError: The key does not exist in the dictionary\")"
   ]
  },
  {
   "cell_type": "code",
   "execution_count": 9,
   "id": "01f8a3b2",
   "metadata": {},
   "outputs": [
    {
     "name": "stdout",
     "output_type": "stream",
     "text": [
      "Caught an IndexError: The index is out of range. \n"
     ]
    }
   ],
   "source": [
    "# IndexError Handling \n",
    "my_list = [1,2,3]\n",
    "\n",
    "try:\n",
    "    value = my_list[5]\n",
    "except IndexError:\n",
    "    print(\"Caught an IndexError: The index is out of range. \")"
   ]
  },
  {
   "cell_type": "markdown",
   "id": "187a415f",
   "metadata": {},
   "source": [
    "# Debugging Techniques"
   ]
  },
  {
   "cell_type": "code",
   "execution_count": 10,
   "id": "944dbe6b",
   "metadata": {},
   "outputs": [
    {
     "ename": "ZeroDivisionError",
     "evalue": "division by zero",
     "output_type": "error",
     "traceback": [
      "\u001b[0;31m---------------------------------------------------------------------------\u001b[0m",
      "\u001b[0;31mZeroDivisionError\u001b[0m                         Traceback (most recent call last)",
      "Cell \u001b[0;32mIn[10], line 5\u001b[0m\n\u001b[1;32m      3\u001b[0m number \u001b[38;5;241m=\u001b[39m \u001b[38;5;241m10\u001b[39m\n\u001b[1;32m      4\u001b[0m divider \u001b[38;5;241m=\u001b[39m \u001b[38;5;241m0\u001b[39m\n\u001b[0;32m----> 5\u001b[0m solve \u001b[38;5;241m=\u001b[39m \u001b[43mnumber\u001b[49m\u001b[43m \u001b[49m\u001b[38;5;241;43m/\u001b[39;49m\u001b[43m \u001b[49m\u001b[43mdivider\u001b[49m\n\u001b[1;32m      6\u001b[0m \u001b[38;5;28mprint\u001b[39m(\u001b[38;5;124m'\u001b[39m\u001b[38;5;124mChecking if this code gets to this point\u001b[39m\u001b[38;5;124m'\u001b[39m)\n",
      "\u001b[0;31mZeroDivisionError\u001b[0m: division by zero"
     ]
    }
   ],
   "source": [
    "# Debugging with print()\n",
    "\n",
    "number = 10\n",
    "divider = 0\n",
    "solve = number / divider\n",
    "print('Checking if this code gets to this point')"
   ]
  },
  {
   "cell_type": "code",
   "execution_count": 11,
   "id": "815d189d",
   "metadata": {},
   "outputs": [
    {
     "name": "stderr",
     "output_type": "stream",
     "text": [
      "DEBUG:root:This is a debug message. \n"
     ]
    }
   ],
   "source": [
    "# Debugging with IDE Tools \n",
    "\n",
    "# Debugging with logging\n",
    "\n",
    "import logging\n",
    "\n",
    "logging.basicConfig(level=logging.DEBUG)\n",
    "logging.debug('This is a debug message. ')"
   ]
  },
  {
   "cell_type": "code",
   "execution_count": null,
   "id": "b48ddc48",
   "metadata": {},
   "outputs": [],
   "source": []
  }
 ],
 "metadata": {
  "kernelspec": {
   "display_name": "pythonz",
   "language": "python",
   "name": "python3"
  },
  "language_info": {
   "codemirror_mode": {
    "name": "ipython",
    "version": 3
   },
   "file_extension": ".py",
   "mimetype": "text/x-python",
   "name": "python",
   "nbconvert_exporter": "python",
   "pygments_lexer": "ipython3",
   "version": "3.10.17"
  }
 },
 "nbformat": 4,
 "nbformat_minor": 5
}
