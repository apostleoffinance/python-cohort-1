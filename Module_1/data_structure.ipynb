{
 "cells": [
  {
   "cell_type": "markdown",
   "id": "c4da7699",
   "metadata": {},
   "source": [
    "# Data Structure in Python\n",
    "\n",
    "## What is a Data Structure in Python?\n",
    "\n",
    "A data structure is a way to organize, store, and access data efficiently so it can be used effectively. In Python, data structures are built-in types that allow you to group and manipulate data in different formats depending on your need.\n",
    "\n",
    "\n",
    "#### Why Are Data Structures Important?\n",
    "✅ Help you manage and organize data better.\n",
    "\n",
    "✅ Make data retrieval, updating, and manipulation easier.\n",
    "\n",
    "✅ Essential for solving real-world problems efficiently.\n",
    "\n",
    "✅ Common in blockchain analytics (e.g., wallet records, transaction logs)\n",
    "\n",
    "\n",
    "\n",
    "\n",
    "### Common Built-in Data Structures in Python\n",
    " \n",
    "Data Structure\tDescription\t            Example\n",
    "\n",
    "String\t    A sequence of characters\t    \"Bitcoin\"\n",
    "\n",
    "List\t    Ordered, mutable sequence\t    [1, 2, 3]\n",
    "\n",
    "Tuple\t    Ordered, immutable sequence\t    (4, 5, 6)\n",
    "\n",
    "Set\t        Unordered collection of unique items\t{1, 2, 3}\n",
    "\n",
    "Dictionary\tKey-value pairs\t    {\"name\": \"Alice\", \"wallet\": \"0xABC\"}\n",
    "\n",
    "\n",
    "\n",
    "### Where Do You See Data Structures in Blockchain?\n",
    "Blockchain Element\t                Python Structure\n",
    "\n",
    "Wallet → tokens\t            ---    Dictionary or List\n",
    "\n",
    "Transaction log\t       ---         List of dictionaries\n",
    "\n",
    "Token prices (ETH → USD)\t---    Dictionary\n",
    "\n",
    "Address metadata\t   ---        Nested dictionary\n",
    "\n",
    "Smart contract parameters\t---    Tuple or Dict\n"
   ]
  },
  {
   "cell_type": "markdown",
   "id": "d3410f2b",
   "metadata": {},
   "source": [
    "# 1. STRING (str)\n",
    "\n",
    "### ✅ Definition:\n",
    "\n",
    "A String is an ordered sequence of characters enclosed in single, double, or triple quotes."
   ]
  },
  {
   "cell_type": "markdown",
   "id": "c4b61646",
   "metadata": {},
   "source": [
    "# 2. LIST (list)\n",
    "\n",
    "### ✅ Definition:\n",
    "\n",
    "A List is an ordered, mutable, indexable collection of elements."
   ]
  },
  {
   "cell_type": "markdown",
   "id": "20a75ad7",
   "metadata": {},
   "source": [
    "# 3. TUPLE (tuple)\n",
    "\n",
    "### ✅ Definition:\n",
    "\n",
    "A Tuple is an ordered, immutable collection."
   ]
  },
  {
   "cell_type": "markdown",
   "id": "a6aa4a79",
   "metadata": {},
   "source": [
    "# 4. SET (set)\n",
    "\n",
    "### ✅ Definition:\n",
    "\n",
    "A Set is an unordered, unindexed, mutable collection of unique elements."
   ]
  },
  {
   "cell_type": "markdown",
   "id": "fd9484ca",
   "metadata": {},
   "source": [
    "# 5. DICTIONARY (dict)\n",
    "\n",
    "### ✅ Definition:\n",
    "\n",
    "A Dictionary is an unordered, mutable collection of key-value pairs."
   ]
  },
  {
   "cell_type": "markdown",
   "id": "6abd0362",
   "metadata": {},
   "source": [
    "# 6. Nested Data Structures\n",
    "\n",
    "These are combinations of basic data structures. They’re very common in real-world data (like blockchain data, API responses, and JSON).\n",
    "\n",
    "\n",
    " ## A. List of Lists (2D List)"
   ]
  },
  {
   "cell_type": "markdown",
   "id": "0131df42",
   "metadata": {
    "vscode": {
     "languageId": "plaintext"
    }
   },
   "source": [
    "## B. List of Dictionaries"
   ]
  },
  {
   "cell_type": "markdown",
   "id": "0365cc63",
   "metadata": {},
   "source": [
    "## C. Dictionary of Lists"
   ]
  },
  {
   "cell_type": "markdown",
   "id": "5d456d51",
   "metadata": {},
   "source": [
    " ## D. Nested Dictionary (Dict of Dict)"
   ]
  },
  {
   "cell_type": "markdown",
   "id": "f564ca2d",
   "metadata": {},
   "source": [
    "## E. Mix and Match Examples"
   ]
  },
  {
   "cell_type": "markdown",
   "id": "4be9757f",
   "metadata": {},
   "source": []
  }
 ],
 "metadata": {
  "kernelspec": {
   "display_name": "pythonz",
   "language": "python",
   "name": "python3"
  },
  "language_info": {
   "name": "python",
   "version": "3.10.17"
  }
 },
 "nbformat": 4,
 "nbformat_minor": 5
}
