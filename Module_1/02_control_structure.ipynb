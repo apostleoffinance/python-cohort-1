{
 "cells": [
  {
   "cell_type": "markdown",
   "id": "020df97f",
   "metadata": {},
   "source": [
    "# Python Control Structures:  Conditionals and Loops \n",
    "\n",
    "\n",
    "Control structures help you control the flow of your program. They allow your code to make decisions or repeat actions."
   ]
  },
  {
   "cell_type": "markdown",
   "id": "43527b23",
   "metadata": {},
   "source": []
  },
  {
   "cell_type": "markdown",
   "id": "77e91b34",
   "metadata": {},
   "source": [
    "# Conditional Statement\n",
    "\n",
    "A conditional statement controls whether a block of code runs based on whether a condition is true or false.\n",
    "\n",
    "### Types:\n",
    "\n",
    "if: Runs code if the condition is true.\n",
    "\n",
    "elif: Checks additional conditions if the previous if is false.\n",
    "\n",
    "else: Runs code if no conditions are true.\n",
    "\n",
    "Purpose: Makes decisions in code by choosing which path to follow.\n",
    "\n",
    "## Conditional Statement (if,elif,else)\n",
    "#### How they work:\n",
    "if: Checks a condition - if true, runs the code inside.\n",
    "\n",
    "elif: Short for \"else if\" - checks another condition if the first if was false.\n",
    "\n",
    "else: Runs code if all above conditions were false."
   ]
  },
  {
   "cell_type": "markdown",
   "id": "a4d1e847",
   "metadata": {},
   "source": [
    "### 1. if Statement"
   ]
  },
  {
   "cell_type": "code",
   "execution_count": 2,
   "id": "b6a8548e",
   "metadata": {},
   "outputs": [
    {
     "name": "stdout",
     "output_type": "stream",
     "text": [
      "x is greater than 5\n"
     ]
    }
   ],
   "source": [
    "x = 10\n",
    "#type(x)\n",
    "\n",
    "if x > 5:\n",
    "    print(\"x is greater than 5\")"
   ]
  },
  {
   "cell_type": "code",
   "execution_count": 5,
   "id": "af7a5e0e",
   "metadata": {},
   "outputs": [
    {
     "name": "stdout",
     "output_type": "stream",
     "text": [
      "x is less than 20\n"
     ]
    }
   ],
   "source": [
    "x = 10\n",
    "\n",
    "if x < 20:\n",
    "    print(\"x is less than 20\")"
   ]
  },
  {
   "cell_type": "markdown",
   "id": "4a5f3a0e",
   "metadata": {},
   "source": [
    "## 2. if...else Statement"
   ]
  },
  {
   "cell_type": "code",
   "execution_count": 8,
   "id": "1b91d308",
   "metadata": {},
   "outputs": [
    {
     "name": "stdout",
     "output_type": "stream",
     "text": [
      "x is 5 or less\n"
     ]
    }
   ],
   "source": [
    "x = 3\n",
    "\n",
    "if x > 5:\n",
    "    print(\"x is greater than 5\")\n",
    "else:\n",
    "    print(\"x is 5 or less\")"
   ]
  },
  {
   "cell_type": "markdown",
   "id": "a49a4ea7",
   "metadata": {},
   "source": [
    "## 3. if...elif...else Statement"
   ]
  },
  {
   "cell_type": "code",
   "execution_count": 9,
   "id": "410d9e28",
   "metadata": {},
   "outputs": [
    {
     "name": "stdout",
     "output_type": "stream",
     "text": [
      "Greater than 5\n"
     ]
    }
   ],
   "source": [
    "x = 7\n",
    "\n",
    "if x < 5:\n",
    "    print(\"Less than 5\")\n",
    "elif x == 5:\n",
    "    print(\"Equal to 5\")\n",
    "else:\n",
    "    print(\"Greater than 5\")\n"
   ]
  },
  {
   "cell_type": "markdown",
   "id": "0da4b357",
   "metadata": {},
   "source": [
    "### A wallet balance has $1500 worth of ETH. Check if the balance is greater than $1000 and return information if the balance is \"High balance wallet\" or \"Low balance wallet\""
   ]
  },
  {
   "cell_type": "code",
   "execution_count": null,
   "id": "5f6d1fbc",
   "metadata": {},
   "outputs": [
    {
     "name": "stdout",
     "output_type": "stream",
     "text": [
      "High Balance\n"
     ]
    }
   ],
   "source": [
    "Wallet = 1500\n",
    "\n",
    "if Wallet > 1000:\n",
    "    print(\"High Balance\")\n",
    "elif Wallet > 500:\n",
    "    print(\"Medium Balance\")\n",
    "elif Wallet == 1500:\n",
    "    print(\"I deserve to warm eba\")\n",
    "else:  \n",
    "    print(\"Low Balance\")"
   ]
  },
  {
   "cell_type": "markdown",
   "id": "7c07fc13",
   "metadata": {},
   "source": [
    "## Logical Operator\n",
    "\n",
    "\n",
    "What they do: Combine or invert conditions.\n",
    "\n",
    "### How they work:\n",
    "\n",
    "and: Both conditions must be true.\n",
    "\n",
    "or: Either condition can be true.\n",
    "\n",
    "not: Flips the condition (true becomes false, and vice versa)."
   ]
  },
  {
   "cell_type": "markdown",
   "id": "7b75a796",
   "metadata": {},
   "source": [
    "### 1. and Operator\n",
    "\n",
    "Returns True only if both conditions are True"
   ]
  },
  {
   "cell_type": "code",
   "execution_count": 18,
   "id": "d72d242c",
   "metadata": {},
   "outputs": [
    {
     "name": "stdout",
     "output_type": "stream",
     "text": [
      "High balance and verified wallet\n"
     ]
    }
   ],
   "source": [
    "balance = 1500\n",
    "verified = True\n",
    "\n",
    "if balance > 1000 and verified:\n",
    "    print(\"High balance and verified wallet\")"
   ]
  },
  {
   "cell_type": "markdown",
   "id": "32861a39",
   "metadata": {},
   "source": [
    "## 2. or Operator\n",
    "\n",
    "Returns True if at least one condition is True"
   ]
  },
  {
   "cell_type": "code",
   "execution_count": 20,
   "id": "be0bdfc8",
   "metadata": {},
   "outputs": [
    {
     "name": "stdout",
     "output_type": "stream",
     "text": [
      "Passes at least one check\n"
     ]
    }
   ],
   "source": [
    "balance = 600\n",
    "verified = False\n",
    "\n",
    "if balance > 100 or verified:\n",
    "    print(\"Passes at least one check\")\n",
    "else:\n",
    "    print(\"Fails both checks\")"
   ]
  },
  {
   "cell_type": "markdown",
   "id": "3f73711a",
   "metadata": {},
   "source": [
    "## not Operator\n",
    "\n",
    "Reverses the condition"
   ]
  },
  {
   "cell_type": "code",
   "execution_count": 21,
   "id": "59f0e595",
   "metadata": {},
   "outputs": [
    {
     "name": "stdout",
     "output_type": "stream",
     "text": [
      "wallet is clean\n"
     ]
    }
   ],
   "source": [
    "is_blaclisted = False\n",
    "\n",
    "if not is_blaclisted:\n",
    "    print(\"wallet is clean\")"
   ]
  },
  {
   "cell_type": "code",
   "execution_count": 22,
   "id": "8de5ab5b",
   "metadata": {},
   "outputs": [
    {
     "name": "stdout",
     "output_type": "stream",
     "text": [
      "variable is within the range\n"
     ]
    }
   ],
   "source": [
    "variable = 100\n",
    "\n",
    "if variable > 0 or variable < 200:\n",
    "    print('variable is within the range')\n",
    "else:\n",
    "    print('variable is out of range')"
   ]
  },
  {
   "cell_type": "code",
   "execution_count": 25,
   "id": "425b53f5",
   "metadata": {},
   "outputs": [
    {
     "name": "stdout",
     "output_type": "stream",
     "text": [
      "v is either less than 0 or greater than 200\n"
     ]
    }
   ],
   "source": [
    "v = 1000\n",
    "\n",
    "if v > 0 and v < 200:\n",
    "    print(\"v is between 0 and 200\")\n",
    "elif v < 0 or v > 200:\n",
    "    print(\"v is either less than 0 or greater than 200\")\n",
    "elif v < 0 and v > 200 or v == 0:\n",
    "    print(\"v is either less than 0 or greater than 200, or equal to 0\")\n",
    "else:\n",
    "    print(\"v is not in the specified range\")\n"
   ]
  },
  {
   "cell_type": "markdown",
   "id": "eab4b417",
   "metadata": {},
   "source": [
    "## Logical Operator Table\n",
    "\n",
    "| Expression       | Result |\n",
    "| ---------------- | ------ |\n",
    "| `True and True`  | True   |\n",
    "| `True and False` | False  |\n",
    "| `False or True`  | True   |\n",
    "| `not True`       | False  |\n",
    "| `not False`      | True   |\n"
   ]
  },
  {
   "cell_type": "markdown",
   "id": "cdeeb306",
   "metadata": {},
   "source": [
    "## Practice Exercises\n",
    "- Check if a user is over 18 and verified to proceed.\n",
    "\n",
    "- Print \"Access granted\" if age > 18 or has parent’s permission.\n",
    "\n",
    "- Use not to check if a wallet is not blacklisted."
   ]
  },
  {
   "cell_type": "code",
   "execution_count": 26,
   "id": "f2fc5910",
   "metadata": {},
   "outputs": [
    {
     "name": "stdout",
     "output_type": "stream",
     "text": [
      "proceed\n"
     ]
    }
   ],
   "source": [
    "user = 20\n",
    "Verified = True\n",
    "\n",
    "if user > 18 and Verified:\n",
    "    print(\"proceed\")"
   ]
  },
  {
   "cell_type": "code",
   "execution_count": 27,
   "id": "d05c5557",
   "metadata": {},
   "outputs": [
    {
     "name": "stdout",
     "output_type": "stream",
     "text": [
      "Proceed to next stage\n"
     ]
    }
   ],
   "source": [
    "age = 20\n",
    "verified = True\n",
    "has_parents_permission = False\n",
    "blacklisted = False\n",
    "\n",
    "if age > 18 and verified:\n",
    "    print('Proceed to next stage')\n",
    "elif age > 18 or has_parents_permission:\n",
    "    print('Access Granted')\n",
    "elif not blacklisted:\n",
    "    print('Wallet is not blacklisted')\n",
    "else:\n",
    "    print('Access Denied')"
   ]
  },
  {
   "cell_type": "code",
   "execution_count": 37,
   "id": "b4fb85f4",
   "metadata": {},
   "outputs": [
    {
     "name": "stdout",
     "output_type": "stream",
     "text": [
      "blacklisted\n"
     ]
    }
   ],
   "source": [
    "is_blacklisted = True\n",
    " \n",
    "if not is_blacklisted:\n",
    "        print(\"not blacklisted\")\n",
    "else:\n",
    "        print(\"blacklisted\")"
   ]
  },
  {
   "cell_type": "code",
   "execution_count": 32,
   "id": "5338f61f",
   "metadata": {},
   "outputs": [
    {
     "name": "stdout",
     "output_type": "stream",
     "text": [
      "Over 18 and a verified user\n",
      "Over 18 or has parents' permission\n",
      "User is not blacklisted\n"
     ]
    }
   ],
   "source": [
    "user = 18\n",
    "verified = True\n",
    "parents_permission = False\n",
    "is_blacklisted = False\n",
    "\n",
    "if user >= 18 and verified:\n",
    "    print(\"Over 18 and a verified user\")\n",
    "\n",
    "if user >= 18 or parents_permission:\n",
    "    print(\"Over 18 or has parents' permission\")\n",
    "\n",
    "if not is_blacklisted:\n",
    "    print(\"User is not blacklisted\")"
   ]
  },
  {
   "cell_type": "code",
   "execution_count": 35,
   "id": "f2d50a7a",
   "metadata": {},
   "outputs": [
    {
     "name": "stdout",
     "output_type": "stream",
     "text": [
      "Do not proceed\n"
     ]
    }
   ],
   "source": [
    "user_age = 13\n",
    "verified = True\n",
    "\n",
    "if user_age > 18 and verified: \n",
    "    print(\"Proceed\")\n",
    "else:\n",
    "    print(\"Do not proceed\")\n",
    "\n",
    "# Result is do not proceed"
   ]
  },
  {
   "cell_type": "code",
   "execution_count": null,
   "id": "c55e48ce",
   "metadata": {},
   "outputs": [],
   "source": []
  }
 ],
 "metadata": {
  "kernelspec": {
   "display_name": "pythonz",
   "language": "python",
   "name": "python3"
  },
  "language_info": {
   "codemirror_mode": {
    "name": "ipython",
    "version": 3
   },
   "file_extension": ".py",
   "mimetype": "text/x-python",
   "name": "python",
   "nbconvert_exporter": "python",
   "pygments_lexer": "ipython3",
   "version": "3.10.17"
  }
 },
 "nbformat": 4,
 "nbformat_minor": 5
}
