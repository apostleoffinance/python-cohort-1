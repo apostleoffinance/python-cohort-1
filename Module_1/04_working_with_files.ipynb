{
 "cells": [
  {
   "cell_type": "markdown",
   "id": "dcb012a5",
   "metadata": {},
   "source": [
    "# Working with Files (CSV , JSON)\n",
    "\n",
    "#### Reading and Writing Text Files\n",
    "What it is: Storing and retrieving data from files on your computer.\n",
    "\n",
    "#### Basic Operations:\n",
    "open(\"file.txt\") - Opens a file (needs to be closed after).\n",
    "\n",
    "with open(...) - Better way (auto-closes file).\n",
    "\n",
    "#### Modes:\n",
    "\"r\" - Read (default)\n",
    "\n",
    "\"w\" - Write (erases existing content)\n",
    "\n",
    "\"a\" - Append (adds to end)\n",
    "\n",
    "\"r+\" - Read and write"
   ]
  },
  {
   "cell_type": "code",
   "execution_count": 2,
   "id": "bdc5b776",
   "metadata": {},
   "outputs": [
    {
     "name": "stdout",
     "output_type": "stream",
     "text": [
      "yfwyojfwnclkkbaluyudqtihyjymawdejwohryzcxmfetprweypeycsgrftmvdsmfnscoktfcdmhlhwbbokgqktritnplecfqlfvdkhxqdzxibfrvgildqtqyhxaopcchziwzbcuclapmbtwmakgxpfmegtudyikksbagxhemmvzrrbfqwuvitzqndnolfuzxmlihygqgkepxsidktisfaelmjriihcfwwywqkrhpwmowmbfxyfjhtioaavgjpfawcmozflgefvaksqhxrcfpqzptctxosbddstjilntyttsdjppszejtiavwbqxfkbufeghsrpqoxgwmsonzxutvgnvolnipwbpduywimhbsbggzimzrvqvmyzwmzoiqurkajgftwnypbmqrxwpnromteriomlstdconetdjsmetfeptfpxsnxqxvyajtspjigjgrkntedfzbeyzhrnowijcyhzzwxaxowbyhhzpuqvnneipsexsrcwzrmjtlrfplbpohonbxyfttmuawqtyautuntiejhrzhrwynxomkhzwoyyssdhqovyjtgjsibpgncigrehuadglzsiafzbxalnwgcjmolwebzvwfkpabqbcugpkbpfezzgvedbrfilicemnighefhvexjsggjoszgymcillptwnvyoojblrxezajrhmucbuxroxbwkrtwrhvklfhdgpojiorctgviyzwctugrwekvovmaxadezcjmiuotgrhoupbhlrcujxsvlnicpvssnclslfpdggviyvxmeyddacxjmxiwbsopwrmieqpdoacbuaaghrwjszcdyvmpphsbccvlnxkktijozfoxwnkxllemdydfmsyifxnnhyktrhenmofihrinfkrdyfklqdfhbswxqdjkphbjxqoaaybhrrgteasgwimwdrdzuyzwdrxaqadwfzqtikdzjzqhscexrgrevmtrqjmkzasqugyehoyxakkylxwgynujwqmzveoucknieclwvihemswst\n"
     ]
    }
   ],
   "source": [
    "# Working with files in python (Reading mode)\n",
    "\n",
    "with open('sample1.txt', 'r') as file: # Opens the file in the read mode\n",
    "    content = file.read() # Read the entire content in the file\n",
    "    print(content)"
   ]
  },
  {
   "cell_type": "code",
   "execution_count": 3,
   "id": "976991e1",
   "metadata": {},
   "outputs": [],
   "source": [
    "# Working with files in Python (Writing mode)\n",
    "\n",
    "with open('sample1.txt', 'w') as file: #Opens file in the write mode\n",
    "    file.write(\"Hello World!\\n\") # Write a line in the file\n",
    "    file.write('This is a text file.\\n') "
   ]
  },
  {
   "cell_type": "code",
   "execution_count": 4,
   "id": "eebec2d5",
   "metadata": {},
   "outputs": [],
   "source": [
    "# Working with files in Python (Appending Mode)\n",
    "\n",
    "with open('sample1.txt', 'a') as file: # Opens file in append mode\n",
    "    file.write(\"Appending a new line.\\n\") # Append a new line to the file\n",
    "    file.write('This is another appended line.\\n')"
   ]
  },
  {
   "cell_type": "code",
   "execution_count": 5,
   "id": "107f767f",
   "metadata": {},
   "outputs": [
    {
     "name": "stdout",
     "output_type": "stream",
     "text": [
      "Current content of the file:\n",
      "Hello World!\n",
      "This is a text file.\n",
      "Appending a new line.\n",
      "This is another appended line.\n",
      "\n"
     ]
    }
   ],
   "source": [
    "# Working with files in Python (Read and Write mode)\n",
    "\n",
    "with open('sample1.txt', 'r+') as file:\n",
    "    content = file.read()\n",
    "    print(\"Current content of the file:\")\n",
    "    print(content)\n",
    "\n",
    "\n",
    "    file.write(\"Adding more content.\\n\")"
   ]
  },
  {
   "cell_type": "markdown",
   "id": "73c4ad03",
   "metadata": {},
   "source": [
    "# Working with CSV Files\n",
    "\n",
    "- CSV: Comma-Separated Values (like simple Excel files).\n",
    "- csv module:\n",
    "- csv.writer( ) - Writes data to CSV.\n",
    "- csv.reader( ) - Reads CSV rows as lists.\n",
    "- csv.DictReader( ) - Reads rows as dictionaries."
   ]
  },
  {
   "cell_type": "code",
   "execution_count": 6,
   "id": "131f79b1",
   "metadata": {},
   "outputs": [],
   "source": [
    "# Working with CSV files\n",
    "\n",
    "import csv\n",
    "\n",
    "# Writing to CSV\n",
    "with open('data.csv', 'w', newline='') as csvfile: # Open file in write mode\n",
    "    writer = csv.writer(csvfile)        # Create the csv writer object\n",
    "    writer.writerow(['name', 'age', 'city']) # Write Header Row\n",
    "    writer.writerow(['alice', 30, 'New York']) #Write data row\n",
    "    writer.writerow(['Bob', 25, 'Los Angeles']) #Write another data row\n"
   ]
  },
  {
   "cell_type": "code",
   "execution_count": 7,
   "id": "8fa9faed",
   "metadata": {},
   "outputs": [
    {
     "name": "stdout",
     "output_type": "stream",
     "text": [
      "['name', 'age', 'city']\n",
      "['alice', '30', 'New York']\n",
      "['Bob', '25', 'Los Angeles']\n"
     ]
    }
   ],
   "source": [
    "# Working with CSV files \n",
    "import csv\n",
    "\n",
    "with open('data.csv', 'r') as csvfile: # Open file in read mode\n",
    "    reader = csv.reader(csvfile) # Create a csv reader object \n",
    "    for row in reader:          # iterate through the each row in the csv file\n",
    "        print(row)\n",
    "\n"
   ]
  },
  {
   "cell_type": "code",
   "execution_count": 8,
   "id": "a4e85bbd",
   "metadata": {},
   "outputs": [
    {
     "name": "stdout",
     "output_type": "stream",
     "text": [
      "{'name': 'alice', 'age': '30', 'city': 'New York'}\n",
      "{'name': 'Bob', 'age': '25', 'city': 'Los Angeles'}\n"
     ]
    }
   ],
   "source": [
    "# Working with CSV file \n",
    "\n",
    "#DictReader for reading csv files\n",
    "\n",
    "with open('data.csv', 'r') as csvfile:\n",
    "    reader = csv.DictReader(csvfile)\n",
    "    for row in reader:\n",
    "        print(row)"
   ]
  },
  {
   "cell_type": "markdown",
   "id": "6544c4ac",
   "metadata": {},
   "source": [
    "# Handling JSON Data\n",
    "\n",
    "JSON: Format for storing and exchanging data (like Python dictionaries).\n",
    "\n",
    "json module:\n",
    "\n",
    "- json.dump( ) - Writes JSON to file.\n",
    "\n",
    "- json.load( ) - Reads JSON from file.\n",
    "\n",
    "- json.loads( ) - Reads JSON from string.\n",
    "\n",
    "- json.dumps( ) - Converts Python object to JSON string."
   ]
  },
  {
   "cell_type": "code",
   "execution_count": 9,
   "id": "cc28fb86",
   "metadata": {},
   "outputs": [],
   "source": [
    "import json \n",
    "\n",
    "# Write json file\n",
    "\n",
    "data = {\n",
    "    'name': 'Alice',\n",
    "    'age': 30,\n",
    "    'city': 'New York'\n",
    "}\n",
    "\n",
    "with open('data.json', 'w') as jsonfile:\n",
    "    json.dump(data, jsonfile, indent=4) # Write json data to the file with indentation"
   ]
  },
  {
   "cell_type": "code",
   "execution_count": 10,
   "id": "9cf5ed3e",
   "metadata": {},
   "outputs": [
    {
     "name": "stdout",
     "output_type": "stream",
     "text": [
      "{'name': 'Alice', 'age': 30, 'city': 'New York'}\n"
     ]
    }
   ],
   "source": [
    "# Reading from json file\n",
    "\n",
    "with open('data.json', 'r') as jsonfile:\n",
    "    data = json.load(jsonfile)\n",
    "    print(data)"
   ]
  },
  {
   "cell_type": "code",
   "execution_count": 14,
   "id": "888d2dd5",
   "metadata": {},
   "outputs": [
    {
     "name": "stdout",
     "output_type": "stream",
     "text": [
      "{'name': 'Alice', 'age': 30, 'city': 'New York'}\n"
     ]
    }
   ],
   "source": [
    "json_string = '{\"name\": \"Alice\", \"age\": 30, \"city\": \"New York\"}'\n",
    "data = json.loads(json_string) # Parse json string into python dictionary\n",
    "print(data)"
   ]
  },
  {
   "cell_type": "code",
   "execution_count": 16,
   "id": "f834e11e",
   "metadata": {},
   "outputs": [
    {
     "name": "stdout",
     "output_type": "stream",
     "text": [
      "{\n",
      "    \"name\": \"Alice\",\n",
      "    \"age\": 30,\n",
      "    \"city\": \"New York\"\n",
      "}\n"
     ]
    }
   ],
   "source": [
    "# Use dump to conevrt python object to json string \n",
    "\n",
    "data = {\n",
    "    'name': 'Alice',\n",
    "    'age': 30,\n",
    "    'city': 'New York'\n",
    "}\n",
    "\n",
    "json_string = json.dumps(data,indent=4) # Convert python object to json string with indentation\n",
    "print(json_string)"
   ]
  },
  {
   "cell_type": "code",
   "execution_count": null,
   "id": "178efd63",
   "metadata": {},
   "outputs": [],
   "source": []
  }
 ],
 "metadata": {
  "kernelspec": {
   "display_name": "pythonz",
   "language": "python",
   "name": "python3"
  },
  "language_info": {
   "codemirror_mode": {
    "name": "ipython",
    "version": 3
   },
   "file_extension": ".py",
   "mimetype": "text/x-python",
   "name": "python",
   "nbconvert_exporter": "python",
   "pygments_lexer": "ipython3",
   "version": "3.10.17"
  }
 },
 "nbformat": 4,
 "nbformat_minor": 5
}
