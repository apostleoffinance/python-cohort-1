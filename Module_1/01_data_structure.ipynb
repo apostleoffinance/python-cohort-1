{
 "cells": [
  {
   "cell_type": "markdown",
   "id": "c4da7699",
   "metadata": {},
   "source": [
    "# Data Structure in Python\n",
    "\n",
    "## What is a Data Structure in Python?\n",
    "\n",
    "A data structure is a way to organize, store, and access data efficiently so it can be used effectively. In Python, data structures are built-in types that allow you to group and manipulate data in different formats depending on your need.\n",
    "\n",
    "\n",
    "#### Why Are Data Structures Important?\n",
    "✅ Help you manage and organize data better.\n",
    "\n",
    "✅ Make data retrieval, updating, and manipulation easier.\n",
    "\n",
    "✅ Essential for solving real-world problems efficiently.\n",
    "\n",
    "✅ Common in blockchain analytics (e.g., wallet records, transaction logs)\n",
    "\n",
    "\n",
    "\n",
    "\n",
    "### Common Built-in Data Structures in Python\n",
    " \n",
    "Data Structure\tDescription\t            Example\n",
    "\n",
    "String\t    A sequence of characters\t    \"Bitcoin\"\n",
    "\n",
    "List\t    Ordered, mutable sequence\t    [1, 2, 3]\n",
    "\n",
    "Tuple\t    Ordered, immutable sequence\t    (4, 5, 6)\n",
    "\n",
    "Set\t        Unordered collection of unique items\t{1, 2, 3}\n",
    "\n",
    "Dictionary\tKey-value pairs\t    {\"name\": \"Alice\", \"wallet\": \"0xABC\"}\n",
    "\n",
    "\n",
    "\n",
    "### Where Do You See Data Structures in Blockchain?\n",
    "Blockchain Element\t                Python Structure\n",
    "\n",
    "Wallet → tokens\t            ---    Dictionary or List\n",
    "\n",
    "Transaction log\t       ---         List of dictionaries\n",
    "\n",
    "Token prices (ETH → USD)\t---    Dictionary\n",
    "\n",
    "Address metadata\t   ---        Nested dictionary\n",
    "\n",
    "Smart contract parameters\t---    Tuple or Dict\n"
   ]
  },
  {
   "cell_type": "markdown",
   "id": "d3410f2b",
   "metadata": {},
   "source": [
    "# 1. STRING (str)\n",
    "\n",
    "### ✅ Definition:\n",
    "\n",
    "A String is an ordered sequence of characters enclosed in single, double, or triple quotes."
   ]
  },
  {
   "cell_type": "code",
   "execution_count": null,
   "id": "b65709bf",
   "metadata": {},
   "outputs": [],
   "source": [
    "name = \"Blockchain\"\n",
    "y = \"crypto\""
   ]
  },
  {
   "cell_type": "markdown",
   "id": "45e10860",
   "metadata": {},
   "source": [
    "## Common Methods and Functions in Strings "
   ]
  },
  {
   "cell_type": "code",
   "execution_count": null,
   "id": "5541ed4f",
   "metadata": {},
   "outputs": [
    {
     "data": {
      "text/plain": [
       "10"
      ]
     },
     "execution_count": 3,
     "metadata": {},
     "output_type": "execute_result"
    }
   ],
   "source": [
    "# len() -> Length of String \n",
    "len(name)"
   ]
  },
  {
   "cell_type": "code",
   "execution_count": null,
   "id": "ef91b5d1",
   "metadata": {},
   "outputs": [
    {
     "data": {
      "text/plain": [
       "'blockchain'"
      ]
     },
     "execution_count": 5,
     "metadata": {},
     "output_type": "execute_result"
    }
   ],
   "source": [
    "# .lower() -> Lowercase\n",
    "name = \" Blockchain\"\n",
    "name.lower()"
   ]
  },
  {
   "cell_type": "code",
   "execution_count": null,
   "id": "02018ab4",
   "metadata": {},
   "outputs": [
    {
     "data": {
      "text/plain": [
       "'BLOCKCHAIN'"
      ]
     },
     "execution_count": 6,
     "metadata": {},
     "output_type": "execute_result"
    }
   ],
   "source": [
    "# .upper() -> Uppercase\n",
    "name = \" BlockChain\"\n",
    "name.upper()"
   ]
  },
  {
   "cell_type": "code",
   "execution_count": null,
   "id": "3bf00dfa",
   "metadata": {},
   "outputs": [
    {
     "data": {
      "text/plain": [
       "'Blockchain'"
      ]
     },
     "execution_count": 9,
     "metadata": {},
     "output_type": "execute_result"
    }
   ],
   "source": [
    "# .strip() -> Removes Spaces \n",
    "name = \" Blockchain\"\n",
    "name.strip()"
   ]
  },
  {
   "cell_type": "code",
   "execution_count": 20,
   "id": "1499f59d",
   "metadata": {},
   "outputs": [],
   "source": [
    "# .replace(old, new) -> Replaces a substring\n",
    "x = \"Blockchain\"\n",
    "x = x.replace(\"Blockchain\", \"Crypto\")\n"
   ]
  },
  {
   "cell_type": "code",
   "execution_count": 21,
   "id": "8fbabe21",
   "metadata": {},
   "outputs": [
    {
     "data": {
      "text/plain": [
       "'Crypto'"
      ]
     },
     "execution_count": 21,
     "metadata": {},
     "output_type": "execute_result"
    }
   ],
   "source": [
    "x"
   ]
  },
  {
   "cell_type": "code",
   "execution_count": 28,
   "id": "ba50c826",
   "metadata": {},
   "outputs": [
    {
     "data": {
      "text/plain": [
       "list"
      ]
     },
     "execution_count": 28,
     "metadata": {},
     "output_type": "execute_result"
    }
   ],
   "source": [
    "# .split() ->. Split into list\n",
    "y = \"Blockchain, Crypto, Asset, Price\"\n",
    "y = y.split(\",\")\n",
    "type(y)"
   ]
  },
  {
   "cell_type": "code",
   "execution_count": 25,
   "id": "3cc53c12",
   "metadata": {},
   "outputs": [
    {
     "data": {
      "text/plain": [
       "True"
      ]
     },
     "execution_count": 25,
     "metadata": {},
     "output_type": "execute_result"
    }
   ],
   "source": [
    "# in -> Check Substring\n",
    "y = \"CryptoAsset\"\n",
    "\"Asset\" in y\n"
   ]
  },
  {
   "cell_type": "markdown",
   "id": "c4b61646",
   "metadata": {},
   "source": [
    "# 2. LIST (list)\n",
    "\n",
    "### ✅ Definition:\n",
    "\n",
    "A List is an ordered, mutable, indexable collection of elements."
   ]
  },
  {
   "cell_type": "code",
   "execution_count": 42,
   "id": "a4693bae",
   "metadata": {},
   "outputs": [
    {
     "name": "stdout",
     "output_type": "stream",
     "text": [
      "<class 'list'>\n"
     ]
    }
   ],
   "source": [
    "tokens = ['ETH', 'BTC', 'SOL', 'ADA']\n",
    "print(type(tokens))"
   ]
  },
  {
   "cell_type": "markdown",
   "id": "ebd9e607",
   "metadata": {},
   "source": [
    "## Common Method of a List"
   ]
  },
  {
   "cell_type": "code",
   "execution_count": 43,
   "id": "d50c4352",
   "metadata": {},
   "outputs": [
    {
     "data": {
      "text/plain": [
       "4"
      ]
     },
     "execution_count": 43,
     "metadata": {},
     "output_type": "execute_result"
    }
   ],
   "source": [
    "# len() -> Length of List\n",
    "len(tokens)"
   ]
  },
  {
   "cell_type": "code",
   "execution_count": 44,
   "id": "638e7a1a",
   "metadata": {},
   "outputs": [
    {
     "data": {
      "text/plain": [
       "['ETH', 'BTC', 'SOL', 'ADA', 'TIA']"
      ]
     },
     "execution_count": 44,
     "metadata": {},
     "output_type": "execute_result"
    }
   ],
   "source": [
    "# .append(x) -> Add to the End of a List\n",
    "tokens.append('TIA')\n",
    "tokens"
   ]
  },
  {
   "cell_type": "code",
   "execution_count": 45,
   "id": "456ab6fc",
   "metadata": {},
   "outputs": [
    {
     "data": {
      "text/plain": [
       "['ETH', 'BTC', 'SOL', 'SOL', 'ADA', 'TIA']"
      ]
     },
     "execution_count": 45,
     "metadata": {},
     "output_type": "execute_result"
    }
   ],
   "source": [
    "# .insert(i, x) -> Adds to an index\n",
    "tokens.insert(2, 'SOL')\n",
    "tokens"
   ]
  },
  {
   "cell_type": "code",
   "execution_count": 46,
   "id": "36b1c8bf",
   "metadata": {},
   "outputs": [
    {
     "data": {
      "text/plain": [
       "['ETH', 'BTC', 'SOL', 'ADA', 'TIA']"
      ]
     },
     "execution_count": 46,
     "metadata": {},
     "output_type": "execute_result"
    }
   ],
   "source": [
    "# .remove(x) -> Removes the first match \n",
    "tokens.remove('SOL')\n",
    "tokens "
   ]
  },
  {
   "cell_type": "code",
   "execution_count": 47,
   "id": "4f61d38c",
   "metadata": {},
   "outputs": [
    {
     "data": {
      "text/plain": [
       "['ETH', 'BTC', 'SOL', 'ADA']"
      ]
     },
     "execution_count": 47,
     "metadata": {},
     "output_type": "execute_result"
    }
   ],
   "source": [
    "# .pop(i) --> Removes and Return\n",
    "tokens.pop(4)\n",
    "tokens"
   ]
  },
  {
   "cell_type": "code",
   "execution_count": 49,
   "id": "9f1f4fb2",
   "metadata": {},
   "outputs": [
    {
     "data": {
      "text/plain": [
       "['ADA', 'BTC', 'ETH', 'SOL']"
      ]
     },
     "execution_count": 49,
     "metadata": {},
     "output_type": "execute_result"
    }
   ],
   "source": [
    "# .sort() --> Sort list\n",
    "\n",
    "tokens.sort()\n",
    "tokens"
   ]
  },
  {
   "cell_type": "code",
   "execution_count": 50,
   "id": "bb892c22",
   "metadata": {},
   "outputs": [
    {
     "data": {
      "text/plain": [
       "['SOL', 'ETH', 'BTC', 'ADA']"
      ]
     },
     "execution_count": 50,
     "metadata": {},
     "output_type": "execute_result"
    }
   ],
   "source": [
    "# .reverse() --> Reverse List\n",
    "\n",
    "tokens.reverse()\n",
    "tokens"
   ]
  },
  {
   "cell_type": "markdown",
   "id": "6dbe914d",
   "metadata": {},
   "source": [
    "## Indexing and Slicing "
   ]
  },
  {
   "cell_type": "code",
   "execution_count": 70,
   "id": "39b9a5dc",
   "metadata": {},
   "outputs": [
    {
     "data": {
      "text/plain": [
       "('BTC', 'TIA')"
      ]
     },
     "execution_count": 70,
     "metadata": {},
     "output_type": "execute_result"
    }
   ],
   "source": [
    "z = ['ETH', 'BTC', 'SOL', 'ADA', 'TIA']\n",
    "r = z[1],z[4]\n",
    "#z[1::4]\n",
    "r\n",
    "\n"
   ]
  },
  {
   "cell_type": "markdown",
   "id": "20a75ad7",
   "metadata": {},
   "source": [
    "# 3. TUPLE (tuple)\n",
    "\n",
    "### ✅ Definition:\n",
    "\n",
    "A Tuple is an ordered, immutable collection."
   ]
  },
  {
   "cell_type": "code",
   "execution_count": 4,
   "id": "33e41bb3",
   "metadata": {},
   "outputs": [],
   "source": [
    "block = ('BTC', 2025, 'halving', 'BTC')\n"
   ]
  },
  {
   "cell_type": "markdown",
   "id": "464c8373",
   "metadata": {},
   "source": [
    "# Common Funtions in Tuple"
   ]
  },
  {
   "cell_type": "code",
   "execution_count": 3,
   "id": "2c7465bd",
   "metadata": {},
   "outputs": [
    {
     "data": {
      "text/plain": [
       "3"
      ]
     },
     "execution_count": 3,
     "metadata": {},
     "output_type": "execute_result"
    }
   ],
   "source": [
    "# len() --> Length of Tuple\n",
    "\n",
    "len(block)"
   ]
  },
  {
   "cell_type": "code",
   "execution_count": 6,
   "id": "60a61a5e",
   "metadata": {},
   "outputs": [
    {
     "data": {
      "text/plain": [
       "2"
      ]
     },
     "execution_count": 6,
     "metadata": {},
     "output_type": "execute_result"
    }
   ],
   "source": [
    "# .count(x) -> Count occurences \n",
    "block.count('BTC')\n"
   ]
  },
  {
   "cell_type": "code",
   "execution_count": 8,
   "id": "1269a718",
   "metadata": {},
   "outputs": [
    {
     "data": {
      "text/plain": [
       "0"
      ]
     },
     "execution_count": 8,
     "metadata": {},
     "output_type": "execute_result"
    }
   ],
   "source": [
    "# .index(x) -> Get index of element\n",
    "block.index('BTC')"
   ]
  },
  {
   "cell_type": "code",
   "execution_count": 9,
   "id": "44abc2bd",
   "metadata": {},
   "outputs": [
    {
     "data": {
      "text/plain": [
       "True"
      ]
     },
     "execution_count": 9,
     "metadata": {},
     "output_type": "execute_result"
    }
   ],
   "source": [
    "# in -> Membership check\n",
    "\n",
    "'halving' in block"
   ]
  },
  {
   "cell_type": "markdown",
   "id": "a6aa4a79",
   "metadata": {},
   "source": [
    "# 4. SET (set)\n",
    "\n",
    "### ✅ Definition:\n",
    "\n",
    "A Set is an unordered, unindexed, mutable collection of unique elements."
   ]
  },
  {
   "cell_type": "code",
   "execution_count": 43,
   "id": "98e84509",
   "metadata": {},
   "outputs": [],
   "source": [
    "# Create a Set\n",
    "\n",
    "wallet = {'0xABC', '0xDEF', '0x123'}"
   ]
  },
  {
   "cell_type": "markdown",
   "id": "dbfe3dc9",
   "metadata": {},
   "source": [
    "## Common Methods/Functions in SET"
   ]
  },
  {
   "cell_type": "code",
   "execution_count": 35,
   "id": "b6e70797",
   "metadata": {},
   "outputs": [
    {
     "data": {
      "text/plain": [
       "{'0xABC', '0xDEF', '0xGHD'}"
      ]
     },
     "execution_count": 35,
     "metadata": {},
     "output_type": "execute_result"
    }
   ],
   "source": [
    "# .add(x) -> Add Element\n",
    "\n",
    "wallet.add('0xGHD')\n",
    "wallet #original data"
   ]
  },
  {
   "cell_type": "code",
   "execution_count": 45,
   "id": "09a329f1",
   "metadata": {},
   "outputs": [
    {
     "name": "stdout",
     "output_type": "stream",
     "text": [
      "{'0xABC', '0xDEF'}\n"
     ]
    }
   ],
   "source": [
    "# .remove(x) -> Removes element (error if not present)\n",
    "wallet.copy\n",
    "wallet.remove('0x123')\n",
    "x = wallet\n",
    "print(x)\n",
    "#print(wallet)"
   ]
  },
  {
   "cell_type": "code",
   "execution_count": 19,
   "id": "a5c93ef8",
   "metadata": {},
   "outputs": [
    {
     "data": {
      "text/plain": [
       "{'0xDEF'}"
      ]
     },
     "execution_count": 19,
     "metadata": {},
     "output_type": "execute_result"
    }
   ],
   "source": [
    "# .discard(x) -> Remove element (no error if missing)\n",
    "wallet.discard('0xABC')\n",
    "wallet"
   ]
  },
  {
   "cell_type": "code",
   "execution_count": 20,
   "id": "2f321ba1",
   "metadata": {},
   "outputs": [
    {
     "data": {
      "text/plain": [
       "{'0x123', '0xABC', '0xDEF', '0xHHG', '0xTGI', '0xYHS'}"
      ]
     },
     "execution_count": 20,
     "metadata": {},
     "output_type": "execute_result"
    }
   ],
   "source": [
    "# .union(other_set) -> Combine sets\n",
    "wallet_a = {'0xABC', '0xDEF', '0x123'}\n",
    "wallet_b = {'0xTGI', '0xYHS', '0xHHG'}\n",
    "\n",
    "wallet_a.union(wallet_b)"
   ]
  },
  {
   "cell_type": "code",
   "execution_count": 21,
   "id": "fc2630e1",
   "metadata": {},
   "outputs": [
    {
     "data": {
      "text/plain": [
       "{'0xABC', '0xTGI'}"
      ]
     },
     "execution_count": 21,
     "metadata": {},
     "output_type": "execute_result"
    }
   ],
   "source": [
    "# .intersection(other) -> Selects Common elements\n",
    "wallet_x = {'0xABC', '0xDEF', '0xTGI'}\n",
    "wallet_y = {'0xTGI', '0xABC', '0xHHG'}\n",
    "\n",
    "wallet_x.intersection(wallet_y)"
   ]
  },
  {
   "cell_type": "code",
   "execution_count": 22,
   "id": "a7581be2",
   "metadata": {},
   "outputs": [
    {
     "data": {
      "text/plain": [
       "{'0xHHG'}"
      ]
     },
     "execution_count": 22,
     "metadata": {},
     "output_type": "execute_result"
    }
   ],
   "source": [
    "# .difference(other) -> Unique to set \n",
    "wallet_y.difference(wallet_x)"
   ]
  },
  {
   "cell_type": "code",
   "execution_count": 23,
   "id": "aa5ab6bc",
   "metadata": {},
   "outputs": [
    {
     "data": {
      "text/plain": [
       "True"
      ]
     },
     "execution_count": 23,
     "metadata": {},
     "output_type": "execute_result"
    }
   ],
   "source": [
    "# in -> Membership Check\n",
    "'0xTGI' in wallet_x"
   ]
  },
  {
   "cell_type": "markdown",
   "id": "fd9484ca",
   "metadata": {},
   "source": [
    "# 5. DICTIONARY (dict)\n",
    "\n",
    "### ✅ Definition:\n",
    "\n",
    "A Dictionary is an unordered, mutable collection of key-value pairs."
   ]
  },
  {
   "cell_type": "code",
   "execution_count": 88,
   "id": "5ed8f38d",
   "metadata": {},
   "outputs": [
    {
     "data": {
      "text/plain": [
       "{'address': '0xA1B2', 'balance': 4.5, 'is_active': True}"
      ]
     },
     "execution_count": 88,
     "metadata": {},
     "output_type": "execute_result"
    }
   ],
   "source": [
    "# key:value\n",
    "wallet = {\n",
    "    \"address\":\"0xA1B2\",\n",
    "    \"balance\":4.5,\n",
    "    \"is_active\":True\n",
    "}\n",
    "\n",
    "wallet"
   ]
  },
  {
   "cell_type": "markdown",
   "id": "7d74d30a",
   "metadata": {},
   "source": [
    "## Common Methods in Dictionary"
   ]
  },
  {
   "cell_type": "code",
   "execution_count": 89,
   "id": "c5d780dd",
   "metadata": {},
   "outputs": [
    {
     "data": {
      "text/plain": [
       "4.5"
      ]
     },
     "execution_count": 89,
     "metadata": {},
     "output_type": "execute_result"
    }
   ],
   "source": [
    "# dict[key] --> Get value by key\n",
    "wallet[\"balance\"]"
   ]
  },
  {
   "cell_type": "code",
   "execution_count": 90,
   "id": "2564c06a",
   "metadata": {},
   "outputs": [
    {
     "data": {
      "text/plain": [
       "True"
      ]
     },
     "execution_count": 90,
     "metadata": {},
     "output_type": "execute_result"
    }
   ],
   "source": [
    "# .get(key) --> Safe Access\n",
    "wallet.get(\"is_active\")"
   ]
  },
  {
   "cell_type": "code",
   "execution_count": 91,
   "id": "0491396d",
   "metadata": {},
   "outputs": [
    {
     "data": {
      "text/plain": [
       "dict_keys(['address', 'balance', 'is_active'])"
      ]
     },
     "execution_count": 91,
     "metadata": {},
     "output_type": "execute_result"
    }
   ],
   "source": [
    "# .keys() --> All keys\n",
    "wallet.keys()"
   ]
  },
  {
   "cell_type": "code",
   "execution_count": 77,
   "id": "66635c51",
   "metadata": {},
   "outputs": [
    {
     "data": {
      "text/plain": [
       "dict_values(['0xA1B2', 4.5, True])"
      ]
     },
     "execution_count": 77,
     "metadata": {},
     "output_type": "execute_result"
    }
   ],
   "source": [
    "# .values() --> All values\n",
    "wallet.values()"
   ]
  },
  {
   "cell_type": "code",
   "execution_count": 78,
   "id": "63255aef",
   "metadata": {},
   "outputs": [
    {
     "data": {
      "text/plain": [
       "dict_items([('address', '0xA1B2'), ('balance', 4.5), ('is_active', True)])"
      ]
     },
     "execution_count": 78,
     "metadata": {},
     "output_type": "execute_result"
    }
   ],
   "source": [
    "# .items() --> Key-Value Pairs\n",
    "wallet.items()"
   ]
  },
  {
   "cell_type": "code",
   "execution_count": 80,
   "id": "6ab6b009",
   "metadata": {},
   "outputs": [
    {
     "data": {
      "text/plain": [
       "{'address': '0xA1B2', 'balance': 500, 'is_active': True}"
      ]
     },
     "execution_count": 80,
     "metadata": {},
     "output_type": "execute_result"
    }
   ],
   "source": [
    "# .update({}) --> updates the Dictionary\n",
    "wallet.update({\"balance\": 500})\n",
    "wallet"
   ]
  },
  {
   "cell_type": "code",
   "execution_count": 85,
   "id": "2f87d16f",
   "metadata": {},
   "outputs": [
    {
     "data": {
      "text/plain": [
       "{'address': '0xA1B2', 'balance': 500, 'is_active': False}"
      ]
     },
     "execution_count": 85,
     "metadata": {},
     "output_type": "execute_result"
    }
   ],
   "source": [
    "wallet.update({'is_active': False})\n",
    "wallet"
   ]
  },
  {
   "cell_type": "code",
   "execution_count": 92,
   "id": "f33e0919",
   "metadata": {},
   "outputs": [
    {
     "data": {
      "text/plain": [
       "{'address': '0xA1B2', 'balance': 4.5}"
      ]
     },
     "execution_count": 92,
     "metadata": {},
     "output_type": "execute_result"
    }
   ],
   "source": [
    "# .pop(key) --> Remove by Key\n",
    "wallet.pop(\"is_active\")\n",
    "wallet"
   ]
  },
  {
   "cell_type": "markdown",
   "id": "6abd0362",
   "metadata": {},
   "source": [
    "# 6. Nested Data Structures\n",
    "\n",
    "These are combinations of basic data structures. They’re very common in real-world data (like blockchain data, API responses, and JSON).\n",
    "\n",
    "\n",
    " ## A. List of Lists (2D List)"
   ]
  },
  {
   "cell_type": "code",
   "execution_count": 50,
   "id": "1b6c737b",
   "metadata": {},
   "outputs": [
    {
     "name": "stdout",
     "output_type": "stream",
     "text": [
      "3\n"
     ]
    }
   ],
   "source": [
    "# List of Lists\n",
    "\n",
    "matrix = [\n",
    "    [1,2,3],\n",
    "    [4,5,6],\n",
    "    [7,8,9]  \n",
    "]\n",
    "\n",
    "\n",
    "#print(matrix[1][1])\n",
    "#print(matrix[2][0])\n",
    "#print(matrix[2][2])\n",
    "\n",
    "print(matrix[0][2])"
   ]
  },
  {
   "cell_type": "markdown",
   "id": "0131df42",
   "metadata": {
    "vscode": {
     "languageId": "plaintext"
    }
   },
   "source": [
    "## B. List of Dictionaries"
   ]
  },
  {
   "cell_type": "code",
   "execution_count": 55,
   "id": "2554745b",
   "metadata": {},
   "outputs": [
    {
     "data": {
      "text/plain": [
       "'Divine'"
      ]
     },
     "execution_count": 55,
     "metadata": {},
     "output_type": "execute_result"
    }
   ],
   "source": [
    "users = [\n",
    "    {'name':'Maryam', 'wallet':'0xADF'},\n",
    "    {'name': 'Bob', 'wallet':'0xJGH'},\n",
    "    {'name': 'Rotimi', 'wallet':'0xKKH'},\n",
    "    {'name': 'Mario', 'wallet':'0xEWH'},\n",
    "    {'name': 'Divine', 'wallet':'0xHFH'},\n",
    "    {'name': 'Wale', 'wallet':'0xJGH'}\n",
    "]\n",
    "\n",
    "users[4]['name']"
   ]
  },
  {
   "cell_type": "markdown",
   "id": "0365cc63",
   "metadata": {},
   "source": [
    "## C. Dictionary of Lists"
   ]
  },
  {
   "cell_type": "code",
   "execution_count": null,
   "id": "efa10570",
   "metadata": {},
   "outputs": [
    {
     "name": "stdout",
     "output_type": "stream",
     "text": [
      "TIA\n"
     ]
    }
   ],
   "source": [
    "wallets = {\n",
    "    '0xADC': ['ETH', 'BTC', 'SOL'],\n",
    "    '0xGRT': ['BTC', 'ADA', 'UNI'],\n",
    "    '0xAED': ['ADA', 'BTC', 'SOL'],\n",
    "    '0xJGG': ['BTC', 'TIA', 'UNI'],\n",
    "    '0xKIT': ['ETH', 'BTC', 'CELE'],\n",
    "    '0xETU': ['ATOM', 'ADA', 'UNI']\n",
    "}\n",
    "\n",
    "#print(wallets['0xADC'][1])\n",
    "print(wallets['0xJGG'][1])\n",
    "#print(wallets['0xJGG'][3])"
   ]
  },
  {
   "cell_type": "markdown",
   "id": "5d456d51",
   "metadata": {},
   "source": [
    " ## D. Nested Dictionary (Dict of Dict)"
   ]
  },
  {
   "cell_type": "code",
   "execution_count": 63,
   "id": "4fa2d3b0",
   "metadata": {},
   "outputs": [
    {
     "name": "stdout",
     "output_type": "stream",
     "text": [
      "3.2\n"
     ]
    }
   ],
   "source": [
    "users_profile = {\n",
    "    '0xABC': {\"name\":\"Alice\", 'balance':5.5},\n",
    "    '0xDEF': {'name':'Bob', 'balance':3.2}\n",
    "}\n",
    "\n",
    "#print(users_profile['0xABC']['balance'])\n",
    "print(users_profile['0xDEF']['balance'])\n",
    "\n"
   ]
  },
  {
   "cell_type": "markdown",
   "id": "f564ca2d",
   "metadata": {},
   "source": [
    "## E. Mix and Match Examples"
   ]
  },
  {
   "cell_type": "code",
   "execution_count": 64,
   "id": "575ed614",
   "metadata": {},
   "outputs": [
    {
     "name": "stdout",
     "output_type": "stream",
     "text": [
      "0xABC\n"
     ]
    }
   ],
   "source": [
    "transactions = [\n",
    "    {\"tx_id\": \"0x1\", \"from\": \"0xABC\", \"to\": \"0xDEF\", \"amount\": 100},\n",
    "    {\"tx_id\": \"0x2\", \"from\": \"0xDEF\", \"to\": \"0x123\", \"amount\": 200}\n",
    "]\n",
    "\n",
    "print(transactions[0]['from'])"
   ]
  },
  {
   "cell_type": "code",
   "execution_count": null,
   "id": "8d595fd9",
   "metadata": {},
   "outputs": [],
   "source": []
  }
 ],
 "metadata": {
  "kernelspec": {
   "display_name": "pythonz",
   "language": "python",
   "name": "python3"
  },
  "language_info": {
   "codemirror_mode": {
    "name": "ipython",
    "version": 3
   },
   "file_extension": ".py",
   "mimetype": "text/x-python",
   "name": "python",
   "nbconvert_exporter": "python",
   "pygments_lexer": "ipython3",
   "version": "3.10.17"
  }
 },
 "nbformat": 4,
 "nbformat_minor": 5
}
