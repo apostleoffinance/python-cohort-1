{
 "cells": [
  {
   "cell_type": "markdown",
   "id": "82084b33",
   "metadata": {},
   "source": [
    "# Functions, Classes and Modules "
   ]
  },
  {
   "cell_type": "markdown",
   "id": "3e3abf65",
   "metadata": {},
   "source": [
    "## 1. Functions in Python\n",
    "\n",
    "What Is a Function?\n",
    "\n",
    "A function is a reusable block of code that performs a specific task. Functions help reduce repetition and improve code organization."
   ]
  },
  {
   "cell_type": "code",
   "execution_count": 33,
   "id": "8abb2a50",
   "metadata": {},
   "outputs": [
    {
     "data": {
      "text/plain": [
       "6"
      ]
     },
     "execution_count": 33,
     "metadata": {},
     "output_type": "execute_result"
    }
   ],
   "source": [
    "# Basic Syntax:\n",
    "#x = [1,2,4,5,6,7]\n",
    "# -> len(x) -> In-Built Function\n",
    "\n",
    "def web3(crypto):\n",
    "    return result\n",
    "\n",
    "web3('BTC')"
   ]
  },
  {
   "cell_type": "code",
   "execution_count": 34,
   "id": "61d6f05c",
   "metadata": {},
   "outputs": [
    {
     "name": "stdout",
     "output_type": "stream",
     "text": [
      "The sum is  8\n"
     ]
    }
   ],
   "source": [
    "def add():\n",
    "    sum=2+6\n",
    "    print(\"The sum is \", sum)\n",
    "\n",
    "add()"
   ]
  },
  {
   "cell_type": "markdown",
   "id": "6724b230",
   "metadata": {},
   "source": [
    "### Function Arguments and Parameters\n",
    "\n",
    "Positional: Matched by order.\n",
    "\n",
    "#### Type of Arguments\n",
    "\n",
    "- Positional Argument\n",
    "- Keyword Argument\n",
    "\n",
    "Keyword: Matched by name (e.g., func(name=\"Alice\")).\n",
    "\n",
    "*args: Accepts extra positional arguments as a tuple.\n",
    "\n",
    "**kwargs: Accepts extra keyword arguments as a dictionary."
   ]
  },
  {
   "cell_type": "markdown",
   "id": "c06fff4e",
   "metadata": {},
   "source": [
    "### Positional Argument"
   ]
  },
  {
   "cell_type": "code",
   "execution_count": 35,
   "id": "917a1dab",
   "metadata": {},
   "outputs": [
    {
     "name": "stdout",
     "output_type": "stream",
     "text": [
      "6\n"
     ]
    }
   ],
   "source": [
    "def add_positional(a,b,c) -> int:\n",
    "    sum = a+b+c\n",
    "    return sum\n",
    "\n",
    "result = add_positional(1,2,3)\n",
    "print(result)"
   ]
  },
  {
   "cell_type": "markdown",
   "id": "98027f2e",
   "metadata": {},
   "source": [
    "### Keyword Argument"
   ]
  },
  {
   "cell_type": "code",
   "execution_count": 36,
   "id": "21a5a278",
   "metadata": {},
   "outputs": [
    {
     "name": "stdout",
     "output_type": "stream",
     "text": [
      "Name Bob\n",
      "Age 25\n"
     ]
    }
   ],
   "source": [
    "def add_keyword(name=\"Alice\", age=30):\n",
    "    print(\"Name\", name)\n",
    "    print(\"Age\", age)\n",
    "\n",
    "add_keyword(name=\"Bob\", age=25)\n"
   ]
  },
  {
   "cell_type": "markdown",
   "id": "a09c33e1",
   "metadata": {},
   "source": [
    "### *args Arguments"
   ]
  },
  {
   "cell_type": "code",
   "execution_count": 37,
   "id": "0daeab54",
   "metadata": {},
   "outputs": [],
   "source": [
    "def add_args(*args):\n",
    "    print(type(args))\n",
    "    for num in args:\n",
    "        print(num, end=\" \")"
   ]
  },
  {
   "cell_type": "code",
   "execution_count": 38,
   "id": "e284a25c",
   "metadata": {},
   "outputs": [
    {
     "name": "stdout",
     "output_type": "stream",
     "text": [
      "<class 'tuple'>\n",
      "1 2 4 3 5 6 7 "
     ]
    }
   ],
   "source": [
    "add_args(1,2,4,3,5,6,7)"
   ]
  },
  {
   "cell_type": "markdown",
   "id": "145383c9",
   "metadata": {},
   "source": [
    "### **kwargs Arguments\n"
   ]
  },
  {
   "cell_type": "code",
   "execution_count": 39,
   "id": "3e1b0dc2",
   "metadata": {},
   "outputs": [],
   "source": [
    "def add_kwargs(**kwargs):\n",
    "    print(type(kwargs))\n",
    "    for key, value in kwargs.items():\n",
    "        print(f\"{key}: {value}\")"
   ]
  },
  {
   "cell_type": "code",
   "execution_count": 40,
   "id": "4f4137ae",
   "metadata": {},
   "outputs": [
    {
     "name": "stdout",
     "output_type": "stream",
     "text": [
      "<class 'dict'>\n",
      "name: David\n",
      "age: 35\n",
      "city: New York\n"
     ]
    }
   ],
   "source": [
    "add_kwargs(name=\"David\", age=35, city=\"New York\")"
   ]
  },
  {
   "cell_type": "code",
   "execution_count": 41,
   "id": "8242cfcc",
   "metadata": {},
   "outputs": [],
   "source": [
    "#x = [2,4,5,6,7,8,10,5]\n",
    "\n",
    "def average(number) -> int:\n",
    "\n",
    "    total = 0\n",
    "    for i in number:\n",
    "        total+= i\n",
    "    avg = total/len(number)\n",
    "\n",
    "    return avg"
   ]
  },
  {
   "cell_type": "code",
   "execution_count": 42,
   "id": "2d25bac6",
   "metadata": {},
   "outputs": [
    {
     "name": "stdout",
     "output_type": "stream",
     "text": [
      "46.0\n"
     ]
    }
   ],
   "source": [
    "price = [1,33,44,55,66,77]\n",
    "avg = average(price)\n",
    "print(avg)"
   ]
  },
  {
   "cell_type": "code",
   "execution_count": 48,
   "id": "1154eed8",
   "metadata": {},
   "outputs": [],
   "source": [
    "# Get Crypto Price Change Percentage\n",
    "\n",
    "def calculate_price_changes(old_price,new_price):\n",
    "    change = ((new_price-old_price) / old_price) * 100\n",
    "    return round(change, 2)"
   ]
  },
  {
   "cell_type": "code",
   "execution_count": 49,
   "id": "7d344659",
   "metadata": {},
   "outputs": [
    {
     "name": "stdout",
     "output_type": "stream",
     "text": [
      "BTC Price Change : 25.7%\n"
     ]
    }
   ],
   "source": [
    "btc_change = calculate_price_changes(100000,125700)\n",
    "print(f\"BTC Price Change : {btc_change}%\")"
   ]
  },
  {
   "cell_type": "code",
   "execution_count": 53,
   "id": "c5a6309a",
   "metadata": {},
   "outputs": [
    {
     "name": "stdout",
     "output_type": "stream",
     "text": [
      "Bitcoin is currently trading at $110,000.00\n",
      "Ethereum is currently trading at $1,800.00\n"
     ]
    }
   ],
   "source": [
    "def format_crypto_price(name, price, symbol=\"$\"):\n",
    "    return f\"{name} is currently trading at {symbol}{price:,.2f}\"\n",
    "\n",
    "print(format_crypto_price(\"Bitcoin\", 110000))\n",
    "print(format_crypto_price(\"Ethereum\", 1800, \"$\"))"
   ]
  },
  {
   "cell_type": "code",
   "execution_count": 56,
   "id": "3a6989a7",
   "metadata": {},
   "outputs": [
    {
     "name": "stdout",
     "output_type": "stream",
     "text": [
      "The price of BTC is $28000\n"
     ]
    }
   ],
   "source": [
    "name = \"BTC\"\n",
    "price = \"28000\"\n",
    "\n",
    "print(\"The price of \" + name + \" is $\" + price)"
   ]
  },
  {
   "cell_type": "code",
   "execution_count": 61,
   "id": "3d029eb3",
   "metadata": {},
   "outputs": [
    {
     "name": "stdout",
     "output_type": "stream",
     "text": [
      "The price of  BTC is $ 28000\n"
     ]
    }
   ],
   "source": [
    "name = \"BTC\"\n",
    "price = 28000\n",
    "print(\"The price of \", name, \"is $\",price)\n",
    "#print(\"The price of \" + name + \" is $\" + price)"
   ]
  },
  {
   "cell_type": "code",
   "execution_count": null,
   "id": "5495190c",
   "metadata": {},
   "outputs": [],
   "source": []
  }
 ],
 "metadata": {
  "kernelspec": {
   "display_name": "pythonz",
   "language": "python",
   "name": "python3"
  },
  "language_info": {
   "codemirror_mode": {
    "name": "ipython",
    "version": 3
   },
   "file_extension": ".py",
   "mimetype": "text/x-python",
   "name": "python",
   "nbconvert_exporter": "python",
   "pygments_lexer": "ipython3",
   "version": "3.10.17"
  }
 },
 "nbformat": 4,
 "nbformat_minor": 5
}
